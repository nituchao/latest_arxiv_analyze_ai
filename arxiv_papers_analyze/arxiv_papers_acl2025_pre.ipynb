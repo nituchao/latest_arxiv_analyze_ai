{
 "cells": [
  {
   "cell_type": "code",
   "execution_count": 1,
   "id": "1b82cbea",
   "metadata": {},
   "outputs": [],
   "source": [
    "import os\n",
    "import re\n",
    "import json"
   ]
  },
  {
   "cell_type": "code",
   "execution_count": 11,
   "id": "75358f19",
   "metadata": {},
   "outputs": [
    {
     "name": "stdout",
     "output_type": "stream",
     "text": [
      "['simpread-Accepted-CL-Papers-ACL-2025.md', 'simpread-Accepted-System-Demonstrations-Papers-ACL-2025.md', 'simpread-Awards-ACL-2025.md', 'simpread-Accepted-Main-Conference-Papers-ACL-2025.md', 'simpread-Accepted-Findings-Papers-ACL-2025.md', 'simpread-Accepted-Industry-Track-Papers-ACL-2025.md', 'simpread-Accepted-TACL-Papers-ACL-2025.md']\n"
     ]
    }
   ],
   "source": [
    "input_path = \"/Users/bytedance/Documents/Workspace/codes_nituchao/nituchao_arxiv/arxiv_papers_acl2025\"\n",
    "input_file_list = jsonl_files = [f for f in os.listdir(input_path) if f.endswith('.md')]\n",
    "print(input_file_list)"
   ]
  },
  {
   "cell_type": "code",
   "execution_count": 8,
   "id": "8d62fb20",
   "metadata": {},
   "outputs": [],
   "source": [
    "# 正则表达式模式匹配论文标题和作者（分别匹配两行）\n",
    "title_pattern = re.compile(r\"\\*\\s*\\*\\*(.*?)\\*\\*\")\n",
    "authors_pattern = re.compile(r\"\\s*_(.*?)_\")"
   ]
  },
  {
   "cell_type": "code",
   "execution_count": 9,
   "id": "e29c085b",
   "metadata": {},
   "outputs": [],
   "source": [
    "for input_file in input_file_list:\n",
    "    input_file = f\"{input_path}/{input_file}\"\n",
    "    output_file = f\"{input_file.split('.')[0]}.jsonl\"\n",
    "    with open(input_file, 'r', encoding='utf-8') as f, open(output_file, 'w', encoding='utf-8') as f_out:\n",
    "        while True:\n",
    "            # 读取标题行\n",
    "            title_line = f.readline()\n",
    "            # 读取作者行\n",
    "            authors_line = f.readline()\n",
    "\n",
    "            # 检查是否已到达文件末尾\n",
    "            if not title_line and not authors_line:\n",
    "                break\n",
    "\n",
    "            # 处理空行情况\n",
    "            title_line = title_line.strip()\n",
    "            authors_line = authors_line.strip()\n",
    "\n",
    "            # 提取标题和作者信息\n",
    "            title_match = title_pattern.search(title_line) if title_line else None\n",
    "            authors_match = authors_pattern.search(authors_line) if authors_line else None\n",
    "\n",
    "            if title_match and authors_match:\n",
    "                title = title_match.group(1).strip()\n",
    "                authors = authors_match.group(1).strip()\n",
    "                # 创建JSON对象\n",
    "                paper_json = {\n",
    "                    \"title\": title,\n",
    "                    \"authors\": authors\n",
    "                }\n",
    "                # 写入JSONL文件\n",
    "                f_out.write(json.dumps(paper_json, ensure_ascii=False) + '\\n')\n",
    "            else:\n",
    "                # 跳过格式不匹配的行（可根据需要添加日志）\n",
    "                continue\n"
   ]
  },
  {
   "cell_type": "code",
   "execution_count": null,
   "id": "8620ce24",
   "metadata": {},
   "outputs": [],
   "source": []
  }
 ],
 "metadata": {
  "kernelspec": {
   "display_name": ".venv",
   "language": "python",
   "name": "python3"
  },
  "language_info": {
   "codemirror_mode": {
    "name": "ipython",
    "version": 3
   },
   "file_extension": ".py",
   "mimetype": "text/x-python",
   "name": "python",
   "nbconvert_exporter": "python",
   "pygments_lexer": "ipython3",
   "version": "3.13.5"
  }
 },
 "nbformat": 4,
 "nbformat_minor": 5
}
